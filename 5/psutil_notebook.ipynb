{
 "cells": [
  {
   "cell_type": "code",
   "execution_count": 1,
   "metadata": {},
   "outputs": [],
   "source": [
    "import psutil\n",
    "import re\n",
    "import datetime\n",
    "import random\n",
    "import pandas as pd"
   ]
  },
  {
   "cell_type": "markdown",
   "metadata": {},
   "source": [
    "# Display all the processes as a data-frame\n",
    "---\n",
    "1. create a dictionary of the processes running\n",
    "2. Transpose the dataframe that is created from dictionary"
   ]
  },
  {
   "cell_type": "code",
   "execution_count": 2,
   "metadata": {},
   "outputs": [
    {
     "data": {
      "text/html": [
       "<div>\n",
       "<style scoped>\n",
       "    .dataframe tbody tr th:only-of-type {\n",
       "        vertical-align: middle;\n",
       "    }\n",
       "\n",
       "    .dataframe tbody tr th {\n",
       "        vertical-align: top;\n",
       "    }\n",
       "\n",
       "    .dataframe thead th {\n",
       "        text-align: right;\n",
       "    }\n",
       "</style>\n",
       "<table border=\"1\" class=\"dataframe\">\n",
       "  <thead>\n",
       "    <tr style=\"text-align: right;\">\n",
       "      <th></th>\n",
       "      <th>username</th>\n",
       "      <th>name</th>\n",
       "    </tr>\n",
       "  </thead>\n",
       "  <tbody>\n",
       "    <tr>\n",
       "      <th>1</th>\n",
       "      <td>root</td>\n",
       "      <td>systemd</td>\n",
       "    </tr>\n",
       "    <tr>\n",
       "      <th>2</th>\n",
       "      <td>root</td>\n",
       "      <td>kthreadd</td>\n",
       "    </tr>\n",
       "    <tr>\n",
       "      <th>3</th>\n",
       "      <td>root</td>\n",
       "      <td>rcu_gp</td>\n",
       "    </tr>\n",
       "    <tr>\n",
       "      <th>4</th>\n",
       "      <td>root</td>\n",
       "      <td>rcu_par_gp</td>\n",
       "    </tr>\n",
       "    <tr>\n",
       "      <th>5</th>\n",
       "      <td>root</td>\n",
       "      <td>slub_flushwq</td>\n",
       "    </tr>\n",
       "    <tr>\n",
       "      <th>...</th>\n",
       "      <td>...</td>\n",
       "      <td>...</td>\n",
       "    </tr>\n",
       "    <tr>\n",
       "      <th>682951</th>\n",
       "      <td>bhavik</td>\n",
       "      <td>python</td>\n",
       "    </tr>\n",
       "    <tr>\n",
       "      <th>682962</th>\n",
       "      <td>root</td>\n",
       "      <td>kworker/u16:4-events_unbound</td>\n",
       "    </tr>\n",
       "    <tr>\n",
       "      <th>682963</th>\n",
       "      <td>root</td>\n",
       "      <td>kworker/u16:5-ext4-rsv-conversion</td>\n",
       "    </tr>\n",
       "    <tr>\n",
       "      <th>682964</th>\n",
       "      <td>root</td>\n",
       "      <td>kworker/u16:6</td>\n",
       "    </tr>\n",
       "    <tr>\n",
       "      <th>683065</th>\n",
       "      <td>bhavik</td>\n",
       "      <td>chrome</td>\n",
       "    </tr>\n",
       "  </tbody>\n",
       "</table>\n",
       "<p>354 rows × 2 columns</p>\n",
       "</div>"
      ],
      "text/plain": [
       "       username                               name\n",
       "1          root                            systemd\n",
       "2          root                           kthreadd\n",
       "3          root                             rcu_gp\n",
       "4          root                         rcu_par_gp\n",
       "5          root                       slub_flushwq\n",
       "...         ...                                ...\n",
       "682951   bhavik                             python\n",
       "682962     root       kworker/u16:4-events_unbound\n",
       "682963     root  kworker/u16:5-ext4-rsv-conversion\n",
       "682964     root                      kworker/u16:6\n",
       "683065   bhavik                             chrome\n",
       "\n",
       "[354 rows x 2 columns]"
      ]
     },
     "execution_count": 2,
     "metadata": {},
     "output_type": "execute_result"
    }
   ],
   "source": [
    "processes_data: dict = {\n",
    "    p.pid: p.info for p in psutil.process_iter([\"name\", \"username\"])\n",
    "}\n",
    "processes = pd.DataFrame(data=processes_data).transpose()  # .reset_index()\\\n",
    "# .rename(columns={\"index\":\"pid\"})\n",
    "processes"
   ]
  },
  {
   "cell_type": "markdown",
   "metadata": {},
   "source": [
    "# Find process ids of some processes\n",
    "----\n",
    "telegram or discord or slack or skype"
   ]
  },
  {
   "cell_type": "code",
   "execution_count": 3,
   "metadata": {},
   "outputs": [
    {
     "data": {
      "text/html": [
       "<div>\n",
       "<style scoped>\n",
       "    .dataframe tbody tr th:only-of-type {\n",
       "        vertical-align: middle;\n",
       "    }\n",
       "\n",
       "    .dataframe tbody tr th {\n",
       "        vertical-align: top;\n",
       "    }\n",
       "\n",
       "    .dataframe thead th {\n",
       "        text-align: right;\n",
       "    }\n",
       "</style>\n",
       "<table border=\"1\" class=\"dataframe\">\n",
       "  <thead>\n",
       "    <tr style=\"text-align: right;\">\n",
       "      <th></th>\n",
       "      <th>username</th>\n",
       "      <th>name</th>\n",
       "    </tr>\n",
       "  </thead>\n",
       "  <tbody>\n",
       "    <tr>\n",
       "      <th>615999</th>\n",
       "      <td>bhavik</td>\n",
       "      <td>slack</td>\n",
       "    </tr>\n",
       "    <tr>\n",
       "      <th>616002</th>\n",
       "      <td>bhavik</td>\n",
       "      <td>slack</td>\n",
       "    </tr>\n",
       "    <tr>\n",
       "      <th>616003</th>\n",
       "      <td>bhavik</td>\n",
       "      <td>slack</td>\n",
       "    </tr>\n",
       "    <tr>\n",
       "      <th>616033</th>\n",
       "      <td>bhavik</td>\n",
       "      <td>slack</td>\n",
       "    </tr>\n",
       "    <tr>\n",
       "      <th>616038</th>\n",
       "      <td>bhavik</td>\n",
       "      <td>slack</td>\n",
       "    </tr>\n",
       "    <tr>\n",
       "      <th>616058</th>\n",
       "      <td>bhavik</td>\n",
       "      <td>slack</td>\n",
       "    </tr>\n",
       "    <tr>\n",
       "      <th>616147</th>\n",
       "      <td>bhavik</td>\n",
       "      <td>telegram-desktop</td>\n",
       "    </tr>\n",
       "    <tr>\n",
       "      <th>655248</th>\n",
       "      <td>bhavik</td>\n",
       "      <td>slack</td>\n",
       "    </tr>\n",
       "  </tbody>\n",
       "</table>\n",
       "</div>"
      ],
      "text/plain": [
       "       username              name\n",
       "615999   bhavik             slack\n",
       "616002   bhavik             slack\n",
       "616003   bhavik             slack\n",
       "616033   bhavik             slack\n",
       "616038   bhavik             slack\n",
       "616058   bhavik             slack\n",
       "616147   bhavik  telegram-desktop\n",
       "655248   bhavik             slack"
      ]
     },
     "execution_count": 3,
     "metadata": {},
     "output_type": "execute_result"
    }
   ],
   "source": [
    "processes[\n",
    "    processes[\"name\"].isin([\"telegram-desktop\", \"discord\", \"skype\", \"slack\"])\n",
    "]  # .index             # uncomment this just to see pids\n",
    "\n",
    "# processes[processes[\"name\"].isin([\"telegram\", \"discord\", \"skype\", \"slack\"])][\"pid\"]"
   ]
  },
  {
   "cell_type": "markdown",
   "metadata": {},
   "source": [
    "# get the process information about process: python"
   ]
  },
  {
   "cell_type": "code",
   "execution_count": 4,
   "metadata": {},
   "outputs": [
    {
     "name": "stdout",
     "output_type": "stream",
     "text": [
      "Process info: psutil.Process(pid=75880, name='python', status='sleeping', started='2023-08-19 14:21:47')\n",
      "Process info: psutil.Process(pid=75881, name='python', status='sleeping', started='2023-08-19 14:21:47')\n",
      "Process info: psutil.Process(pid=75882, name='python', status='sleeping', started='2023-08-19 14:21:47')\n",
      "Process info: psutil.Process(pid=75891, name='python', status='sleeping', started='2023-08-19 14:21:48')\n",
      "Process info: psutil.Process(pid=682951, name='python', status='running', started='22:47:11')\n"
     ]
    }
   ],
   "source": [
    "for pid in processes[processes[\"name\"] == \"python\"].index:\n",
    "    print(\"Process info:\", psutil.Process(pid))"
   ]
  },
  {
   "cell_type": "markdown",
   "metadata": {},
   "source": [
    "# find network connections (sockets ipv4 + port)\n",
    "---\n",
    "kind parameter can be set to different values\n",
    "refer: https://psutil.readthedocs.io/en/latest/#psutil.net_connections"
   ]
  },
  {
   "cell_type": "code",
   "execution_count": 5,
   "metadata": {},
   "outputs": [
    {
     "data": {
      "text/html": [
       "<div>\n",
       "<style scoped>\n",
       "    .dataframe tbody tr th:only-of-type {\n",
       "        vertical-align: middle;\n",
       "    }\n",
       "\n",
       "    .dataframe tbody tr th {\n",
       "        vertical-align: top;\n",
       "    }\n",
       "\n",
       "    .dataframe thead th {\n",
       "        text-align: right;\n",
       "    }\n",
       "</style>\n",
       "<table border=\"1\" class=\"dataframe\">\n",
       "  <thead>\n",
       "    <tr style=\"text-align: right;\">\n",
       "      <th></th>\n",
       "      <th>fd</th>\n",
       "      <th>family</th>\n",
       "      <th>type</th>\n",
       "      <th>laddr</th>\n",
       "      <th>raddr</th>\n",
       "      <th>status</th>\n",
       "      <th>pid</th>\n",
       "    </tr>\n",
       "  </thead>\n",
       "  <tbody>\n",
       "    <tr>\n",
       "      <th>0</th>\n",
       "      <td>52</td>\n",
       "      <td>2</td>\n",
       "      <td>1</td>\n",
       "      <td>(10.14.0.2, 48118)</td>\n",
       "      <td>(172.253.63.188, 5228)</td>\n",
       "      <td>ESTABLISHED</td>\n",
       "      <td>5004</td>\n",
       "    </tr>\n",
       "    <tr>\n",
       "      <th>1</th>\n",
       "      <td>26</td>\n",
       "      <td>2</td>\n",
       "      <td>1</td>\n",
       "      <td>(10.14.0.2, 46098)</td>\n",
       "      <td>(192.241.190.165, 443)</td>\n",
       "      <td>ESTABLISHED</td>\n",
       "      <td>5004</td>\n",
       "    </tr>\n",
       "    <tr>\n",
       "      <th>2</th>\n",
       "      <td>26</td>\n",
       "      <td>2</td>\n",
       "      <td>1</td>\n",
       "      <td>(10.14.0.2, 53498)</td>\n",
       "      <td>(162.159.135.234, 443)</td>\n",
       "      <td>ESTABLISHED</td>\n",
       "      <td>399016</td>\n",
       "    </tr>\n",
       "    <tr>\n",
       "      <th>3</th>\n",
       "      <td>30</td>\n",
       "      <td>2</td>\n",
       "      <td>1</td>\n",
       "      <td>(10.14.0.2, 57708)</td>\n",
       "      <td>(142.250.31.188, 5228)</td>\n",
       "      <td>ESTABLISHED</td>\n",
       "      <td>5004</td>\n",
       "    </tr>\n",
       "    <tr>\n",
       "      <th>4</th>\n",
       "      <td>-1</td>\n",
       "      <td>2</td>\n",
       "      <td>2</td>\n",
       "      <td>(0.0.0.0, 55063)</td>\n",
       "      <td>()</td>\n",
       "      <td>NONE</td>\n",
       "      <td>&lt;NA&gt;</td>\n",
       "    </tr>\n",
       "    <tr>\n",
       "      <th>...</th>\n",
       "      <td>...</td>\n",
       "      <td>...</td>\n",
       "      <td>...</td>\n",
       "      <td>...</td>\n",
       "      <td>...</td>\n",
       "      <td>...</td>\n",
       "      <td>...</td>\n",
       "    </tr>\n",
       "    <tr>\n",
       "      <th>64</th>\n",
       "      <td>25</td>\n",
       "      <td>2</td>\n",
       "      <td>1</td>\n",
       "      <td>(10.14.0.2, 54056)</td>\n",
       "      <td>(3.14.34.68, 443)</td>\n",
       "      <td>ESTABLISHED</td>\n",
       "      <td>616038</td>\n",
       "    </tr>\n",
       "    <tr>\n",
       "      <th>65</th>\n",
       "      <td>54</td>\n",
       "      <td>2</td>\n",
       "      <td>1</td>\n",
       "      <td>(127.0.0.1, 6463)</td>\n",
       "      <td>()</td>\n",
       "      <td>LISTEN</td>\n",
       "      <td>399071</td>\n",
       "    </tr>\n",
       "    <tr>\n",
       "      <th>66</th>\n",
       "      <td>-1</td>\n",
       "      <td>2</td>\n",
       "      <td>2</td>\n",
       "      <td>(0.0.0.0, 631)</td>\n",
       "      <td>()</td>\n",
       "      <td>NONE</td>\n",
       "      <td>&lt;NA&gt;</td>\n",
       "    </tr>\n",
       "    <tr>\n",
       "      <th>67</th>\n",
       "      <td>57</td>\n",
       "      <td>2</td>\n",
       "      <td>1</td>\n",
       "      <td>(127.0.0.1, 34047)</td>\n",
       "      <td>()</td>\n",
       "      <td>LISTEN</td>\n",
       "      <td>75722</td>\n",
       "    </tr>\n",
       "    <tr>\n",
       "      <th>68</th>\n",
       "      <td>36</td>\n",
       "      <td>2</td>\n",
       "      <td>1</td>\n",
       "      <td>(127.0.0.1, 9000)</td>\n",
       "      <td>()</td>\n",
       "      <td>LISTEN</td>\n",
       "      <td>682951</td>\n",
       "    </tr>\n",
       "  </tbody>\n",
       "</table>\n",
       "<p>69 rows × 7 columns</p>\n",
       "</div>"
      ],
      "text/plain": [
       "    fd  family  type               laddr                   raddr       status  \\\n",
       "0   52       2     1  (10.14.0.2, 48118)  (172.253.63.188, 5228)  ESTABLISHED   \n",
       "1   26       2     1  (10.14.0.2, 46098)  (192.241.190.165, 443)  ESTABLISHED   \n",
       "2   26       2     1  (10.14.0.2, 53498)  (162.159.135.234, 443)  ESTABLISHED   \n",
       "3   30       2     1  (10.14.0.2, 57708)  (142.250.31.188, 5228)  ESTABLISHED   \n",
       "4   -1       2     2    (0.0.0.0, 55063)                      ()         NONE   \n",
       "..  ..     ...   ...                 ...                     ...          ...   \n",
       "64  25       2     1  (10.14.0.2, 54056)       (3.14.34.68, 443)  ESTABLISHED   \n",
       "65  54       2     1   (127.0.0.1, 6463)                      ()       LISTEN   \n",
       "66  -1       2     2      (0.0.0.0, 631)                      ()         NONE   \n",
       "67  57       2     1  (127.0.0.1, 34047)                      ()       LISTEN   \n",
       "68  36       2     1   (127.0.0.1, 9000)                      ()       LISTEN   \n",
       "\n",
       "       pid  \n",
       "0     5004  \n",
       "1     5004  \n",
       "2   399016  \n",
       "3     5004  \n",
       "4     <NA>  \n",
       "..     ...  \n",
       "64  616038  \n",
       "65  399071  \n",
       "66    <NA>  \n",
       "67   75722  \n",
       "68  682951  \n",
       "\n",
       "[69 rows x 7 columns]"
      ]
     },
     "execution_count": 5,
     "metadata": {},
     "output_type": "execute_result"
    }
   ],
   "source": [
    "network_connections = pd.DataFrame(data=psutil.net_connections(kind=\"inet4\"))\n",
    "\n",
    "# converting pid from float -> int\n",
    "network_connections[\"pid\"] = network_connections[\"pid\"].convert_dtypes(int)\n",
    "\n",
    "network_connections"
   ]
  },
  {
   "cell_type": "markdown",
   "metadata": {},
   "source": [
    "# users"
   ]
  },
  {
   "cell_type": "code",
   "execution_count": 6,
   "metadata": {},
   "outputs": [
    {
     "name": "stdout",
     "output_type": "stream",
     "text": [
      "Users [suser(name='bhavik', terminal=':0', host='localhost', started=1692419840.0, pid=2865)]\n"
     ]
    }
   ],
   "source": [
    "print(\"Users\", psutil.users())"
   ]
  },
  {
   "cell_type": "markdown",
   "metadata": {},
   "source": [
    "# oneshot\n",
    "---\n",
    "to get more information on one particular process"
   ]
  },
  {
   "cell_type": "code",
   "execution_count": 7,
   "metadata": {},
   "outputs": [
    {
     "name": "stdout",
     "output_type": "stream",
     "text": [
      "psutil.Process(pid=2750, name='tracker-miner-fs', status='sleeping', started='2023-08-19 01:38:05')\n",
      "PID: 2750\n",
      "Name: tracker-miner-fs\n",
      "Parent PID: 2723\n",
      "Status: sleeping\n",
      "Create time: 23/08/19 01:01:05\n"
     ]
    }
   ],
   "source": [
    "# select a random process\n",
    "process = psutil.Process(pid=random.choice(processes.index))\n",
    "print(process)\n",
    "\n",
    "# print vairous info about the process\n",
    "with process.oneshot():\n",
    "    print(\"PID:\", process.pid)\n",
    "    print(\"Name:\", process.name())\n",
    "    print(\"Parent PID:\", process.ppid())\n",
    "    print(\"Status:\", process.status())\n",
    "\n",
    "    # convert timestamp to date + time\n",
    "    # reference: https://psutil.readthedocs.io/en/latest/#psutil.Process.create_time\n",
    "    print(\n",
    "        \"Create time:\",\n",
    "        datetime.datetime.fromtimestamp(process.create_time()).strftime(\n",
    "            \"%y/%m/%d %H:%H:%S\"\n",
    "        ),\n",
    "    )"
   ]
  },
  {
   "cell_type": "markdown",
   "metadata": {},
   "source": [
    "# CPU and Memory info\n",
    "---\n"
   ]
  },
  {
   "cell_type": "code",
   "execution_count": 149,
   "metadata": {},
   "outputs": [
    {
     "name": "stdout",
     "output_type": "stream",
     "text": [
      "CPU usage:                6.50 %\n",
      "CPU time:           scputimes(user=186015.25, nice=367.29, system=45913.7, idle=3434775.91, iowait=3968.95, irq=0.0, softirq=6910.37, steal=0.0, guest=0.0, guest_nice=0.0)\n",
      "Memory usage:            63.70 %\n",
      "Memory free:              5.50 GB\n",
      "Disk usage:              65.50 %\n",
      "Disk free:               21.40 GB\n",
      "Disk partitions:    [sdiskpart(device='/dev/nvme0n1p7', mountpoint='/', fstype='ext4', opts='rw,relatime,errors=remount-ro', maxfile=255, maxpath=4096), sdiskpart(device='/dev/loop0', mountpoint='/snap/brave/256', fstype='squashfs', opts='ro,nodev,relatime,errors=continue', maxfile=256, maxpath=4096), sdiskpart(device='/dev/loop1', mountpoint='/snap/bare/5', fstype='squashfs', opts='ro,nodev,relatime,errors=continue', maxfile=256, maxpath=4096), sdiskpart(device='/dev/nvme0n1p7', mountpoint='/var/snap/firefox/common/host-hunspell', fstype='ext4', opts='ro,noexec,noatime,errors=remount-ro', maxfile=255, maxpath=4096), sdiskpart(device='/dev/loop3', mountpoint='/snap/discord/155', fstype='squashfs', opts='ro,nodev,relatime,errors=continue', maxfile=256, maxpath=4096), sdiskpart(device='/dev/loop2', mountpoint='/snap/chromium-ffmpeg/34', fstype='squashfs', opts='ro,nodev,relatime,errors=continue', maxfile=256, maxpath=4096), sdiskpart(device='/dev/loop4', mountpoint='/snap/brave/257', fstype='squashfs', opts='ro,nodev,relatime,errors=continue', maxfile=256, maxpath=4096), sdiskpart(device='/dev/loop7', mountpoint='/snap/firefox/2987', fstype='squashfs', opts='ro,nodev,relatime,errors=continue', maxfile=256, maxpath=4096), sdiskpart(device='/dev/loop6', mountpoint='/snap/core18/2785', fstype='squashfs', opts='ro,nodev,relatime,errors=continue', maxfile=256, maxpath=4096), sdiskpart(device='/dev/loop5', mountpoint='/snap/code/136', fstype='squashfs', opts='ro,nodev,relatime,errors=continue', maxfile=256, maxpath=4096), sdiskpart(device='/dev/loop10', mountpoint='/snap/digikam/74', fstype='squashfs', opts='ro,nodev,relatime,errors=continue', maxfile=256, maxpath=4096), sdiskpart(device='/dev/loop11', mountpoint='/snap/code/137', fstype='squashfs', opts='ro,nodev,relatime,errors=continue', maxfile=256, maxpath=4096), sdiskpart(device='/dev/loop12', mountpoint='/snap/core22/817', fstype='squashfs', opts='ro,nodev,relatime,errors=continue', maxfile=256, maxpath=4096), sdiskpart(device='/dev/loop8', mountpoint='/snap/discord/153', fstype='squashfs', opts='ro,nodev,relatime,errors=continue', maxfile=256, maxpath=4096), sdiskpart(device='/dev/loop14', mountpoint='/snap/core20/1950', fstype='squashfs', opts='ro,nodev,relatime,errors=continue', maxfile=256, maxpath=4096), sdiskpart(device='/dev/loop16', mountpoint='/snap/gnome-3-28-1804/198', fstype='squashfs', opts='ro,nodev,relatime,errors=continue', maxfile=256, maxpath=4096), sdiskpart(device='/dev/loop15', mountpoint='/snap/core22/858', fstype='squashfs', opts='ro,nodev,relatime,errors=continue', maxfile=256, maxpath=4096), sdiskpart(device='/dev/loop17', mountpoint='/snap/firefox/2971', fstype='squashfs', opts='ro,nodev,relatime,errors=continue', maxfile=256, maxpath=4096), sdiskpart(device='/dev/loop9', mountpoint='/snap/core20/1974', fstype='squashfs', opts='ro,nodev,relatime,errors=continue', maxfile=256, maxpath=4096), sdiskpart(device='/dev/loop23', mountpoint='/snap/gnome-3-38-2004/140', fstype='squashfs', opts='ro,nodev,relatime,errors=continue', maxfile=256, maxpath=4096), sdiskpart(device='/dev/loop21', mountpoint='/snap/gnome-42-2204/126', fstype='squashfs', opts='ro,nodev,relatime,errors=continue', maxfile=256, maxpath=4096), sdiskpart(device='/dev/loop25', mountpoint='/snap/gtk-common-themes/1535', fstype='squashfs', opts='ro,nodev,relatime,errors=continue', maxfile=256, maxpath=4096), sdiskpart(device='/dev/loop13', mountpoint='/snap/gnome-3-34-1804/93', fstype='squashfs', opts='ro,nodev,relatime,errors=continue', maxfile=256, maxpath=4096), sdiskpart(device='/dev/loop24', mountpoint='/snap/gnome-42-2204/120', fstype='squashfs', opts='ro,nodev,relatime,errors=continue', maxfile=256, maxpath=4096), sdiskpart(device='/dev/loop22', mountpoint='/snap/obs-studio/1284', fstype='squashfs', opts='ro,nodev,relatime,errors=continue', maxfile=256, maxpath=4096), sdiskpart(device='/dev/loop18', mountpoint='/snap/docker/2893', fstype='squashfs', opts='ro,nodev,relatime,errors=continue', maxfile=256, maxpath=4096), sdiskpart(device='/dev/loop20', mountpoint='/snap/kf5-5-105-qt-5-15-9-core22/11', fstype='squashfs', opts='ro,nodev,relatime,errors=continue', maxfile=256, maxpath=4096), sdiskpart(device='/dev/loop26', mountpoint='/snap/telegram-desktop/4899', fstype='squashfs', opts='ro,nodev,relatime,errors=continue', maxfile=256, maxpath=4096), sdiskpart(device='/dev/loop27', mountpoint='/snap/opera/249', fstype='squashfs', opts='ro,nodev,relatime,errors=continue', maxfile=256, maxpath=4096), sdiskpart(device='/dev/loop19', mountpoint='/snap/gnome-3-38-2004/143', fstype='squashfs', opts='ro,nodev,relatime,errors=continue', maxfile=256, maxpath=4096), sdiskpart(device='/dev/loop28', mountpoint='/snap/skype/289', fstype='squashfs', opts='ro,nodev,relatime,errors=continue', maxfile=256, maxpath=4096), sdiskpart(device='/dev/loop40', mountpoint='/snap/opera/250', fstype='squashfs', opts='ro,nodev,relatime,errors=continue', maxfile=256, maxpath=4096), sdiskpart(device='/dev/loop33', mountpoint='/snap/termius-app/163', fstype='squashfs', opts='ro,nodev,relatime,errors=continue', maxfile=256, maxpath=4096), sdiskpart(device='/dev/loop42', mountpoint='/snap/vidcutter/76', fstype='squashfs', opts='ro,nodev,relatime,errors=continue', maxfile=256, maxpath=4096), sdiskpart(device='/dev/loop29', mountpoint='/snap/spotify/67', fstype='squashfs', opts='ro,nodev,relatime,errors=continue', maxfile=256, maxpath=4096), sdiskpart(device='/dev/loop38', mountpoint='/snap/pinta/25', fstype='squashfs', opts='ro,nodev,relatime,errors=continue', maxfile=256, maxpath=4096), sdiskpart(device='/dev/loop32', mountpoint='/snap/slack/83', fstype='squashfs', opts='ro,nodev,relatime,errors=continue', maxfile=256, maxpath=4096), sdiskpart(device='/dev/loop35', mountpoint='/snap/snapd/19457', fstype='squashfs', opts='ro,nodev,relatime,errors=continue', maxfile=256, maxpath=4096), sdiskpart(device='/dev/loop39', mountpoint='/snap/slack/82', fstype='squashfs', opts='ro,nodev,relatime,errors=continue', maxfile=256, maxpath=4096), sdiskpart(device='/dev/loop37', mountpoint='/snap/telegram-desktop/4887', fstype='squashfs', opts='ro,nodev,relatime,errors=continue', maxfile=256, maxpath=4096), sdiskpart(device='/dev/loop36', mountpoint='/snap/pycharm-community/342', fstype='squashfs', opts='ro,nodev,relatime,errors=continue', maxfile=256, maxpath=4096), sdiskpart(device='/dev/loop31', mountpoint='/snap/skype/291', fstype='squashfs', opts='ro,nodev,relatime,errors=continue', maxfile=256, maxpath=4096), sdiskpart(device='/dev/loop34', mountpoint='/snap/termius-app/164', fstype='squashfs', opts='ro,nodev,relatime,errors=continue', maxfile=256, maxpath=4096), sdiskpart(device='/dev/loop30', mountpoint='/snap/pycharm-community/340', fstype='squashfs', opts='ro,nodev,relatime,errors=continue', maxfile=256, maxpath=4096), sdiskpart(device='/dev/loop41', mountpoint='/snap/zoom-client/208', fstype='squashfs', opts='ro,nodev,relatime,errors=continue', maxfile=256, maxpath=4096), sdiskpart(device='/dev/loop43', mountpoint='/snap/vlc/3078', fstype='squashfs', opts='ro,nodev,relatime,errors=continue', maxfile=256, maxpath=4096), sdiskpart(device='/dev/nvme0n1p6', mountpoint='/boot', fstype='ext4', opts='rw,relatime', maxfile=255, maxpath=4096), sdiskpart(device='/dev/nvme0n1p5', mountpoint='/home', fstype='ext4', opts='rw,relatime', maxfile=255, maxpath=4096), sdiskpart(device='/dev/nvme0n1p1', mountpoint='/boot/efi', fstype='vfat', opts='rw,relatime,fmask=0077,dmask=0077,codepage=437,iocharset=iso8859-1,shortname=mixed,errors=remount-ro', maxfile=1530, maxpath=4096), sdiskpart(device='/dev/sdc2', mountpoint='/media/bhavik/VTOYEFI', fstype='vfat', opts='rw,nosuid,nodev,relatime,uid=1000,gid=1000,fmask=0022,dmask=0022,codepage=437,iocharset=iso8859-1,shortname=mixed,showexec,utf8,flush,errors=remount-ro', maxfile=1530, maxpath=4096), sdiskpart(device='/dev/sda1', mountpoint='/media/bhavik/Ventoy', fstype='exfat', opts='rw,nosuid,nodev,relatime,uid=1000,gid=1000,fmask=0022,dmask=0022,iocharset=utf8,errors=remount-ro', maxfile=1530, maxpath=4096), sdiskpart(device='/dev/sdc1', mountpoint='/media/bhavik/Bhavik', fstype='exfat', opts='rw,nosuid,nodev,relatime,uid=1000,gid=1000,fmask=0022,dmask=0022,iocharset=utf8,errors=remount-ro', maxfile=1530, maxpath=4096), sdiskpart(device='/dev/sdb2', mountpoint='/media/bhavik/Storage', fstype='exfat', opts='rw,nosuid,nodev,relatime,uid=1000,gid=1000,fmask=0022,dmask=0022,iocharset=utf8,errors=remount-ro', maxfile=1530, maxpath=4096), sdiskpart(device='/dev/loop44', mountpoint='/snap/zaproxy/22', fstype='squashfs', opts='ro,nodev,relatime,errors=continue', maxfile=256, maxpath=4096)]\n",
      "Users:              [suser(name='bhavik', terminal=':0', host='localhost', started=1691691520.0, pid=2867)]\n",
      "Boot time:          23-08-10 15:18:57\n"
     ]
    }
   ],
   "source": [
    "print(f\"{'CPU usage:':20}{psutil.cpu_percent():10.2f} %\")\n",
    "print(f\"{'CPU time:':20}{psutil.cpu_times()}\")\n",
    "print(f\"{'Memory usage:':20}{psutil.virtual_memory().percent:10.2f} %\")\n",
    "print(f\"{'Memory free:':20}{psutil.virtual_memory().available / (2**30):10.2f} GB\")\n",
    "print(f\"{'Disk usage:':20}{psutil.disk_usage('/').percent:10.2f} %\")\n",
    "print(f\"{'Disk free:':20}{psutil.disk_usage('/').free / (2**30):10.2f} GB\")\n",
    "print(f\"{'Disk partitions:':20}{psutil.disk_partitions()}\")\n",
    "print(f\"{'Users:':20}{psutil.users()}\")\n",
    "print(\n",
    "    f\"{'Boot time:':20}{datetime.datetime.fromtimestamp(psutil.boot_time()).strftime('%y-%m-%d %H:%M:%S')}\"\n",
    ")"
   ]
  }
 ],
 "metadata": {
  "kernelspec": {
   "display_name": "pluralsight-env",
   "language": "python",
   "name": "python3"
  },
  "language_info": {
   "codemirror_mode": {
    "name": "ipython",
    "version": 3
   },
   "file_extension": ".py",
   "mimetype": "text/x-python",
   "name": "python",
   "nbconvert_exporter": "python",
   "pygments_lexer": "ipython3",
   "version": "3.11.4"
  },
  "orig_nbformat": 4
 },
 "nbformat": 4,
 "nbformat_minor": 2
}
